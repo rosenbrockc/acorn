{
 "cells": [
  {
   "cell_type": "markdown",
   "metadata": {},
   "source": [
    "# Method Decoration for Auto-Logging\n",
    "\n",
    "This notebook is for playing around with different approaches to automatically add decorators to the libraries that are commonly used for scientific computing and data science."
   ]
  },
  {
   "cell_type": "code",
   "execution_count": null,
   "metadata": {
    "collapsed": false
   },
   "outputs": [],
   "source": [
    "import sys\n",
    "sys.path.insert(0, \"/Users/conrad/codes/acorn-dist/\")\n",
    "\n",
    "import pandas as pd\n",
    "import inspect\n",
    "from acorn import set_task\n",
    "#pmems = [(n, f) for (n, f) in inspect.getmembers(pd) if \"pandas\" in str(f)]\n",
    "\n",
    "%load_ext autoreload\n",
    "%autoreload 2"
   ]
  },
  {
   "cell_type": "code",
   "execution_count": null,
   "metadata": {
    "collapsed": false
   },
   "outputs": [],
   "source": [
    "from acorn.msg import set_verbosity\n",
    "set_verbosity(2)\n",
    "from acorn.logging.database import set_writable\n",
    "set_writable(False)"
   ]
  },
  {
   "cell_type": "code",
   "execution_count": null,
   "metadata": {
    "collapsed": false
   },
   "outputs": [],
   "source": [
    "from decoration import decorate\n",
    "decorate(pd)"
   ]
  },
  {
   "cell_type": "code",
   "execution_count": null,
   "metadata": {
    "collapsed": false
   },
   "outputs": [],
   "source": [
    "pd.DataFrame(range(10))"
   ]
  },
  {
   "cell_type": "code",
   "execution_count": null,
   "metadata": {
    "collapsed": false
   },
   "outputs": [],
   "source": [
    "pd.Index(range(10))"
   ]
  },
  {
   "cell_type": "code",
   "execution_count": null,
   "metadata": {
    "collapsed": false
   },
   "outputs": [],
   "source": [
    "pd.read_csv(\"/Users/conrad/codes/medic-data/sensors/ppg/raw-7.14.2016.csv\")"
   ]
  },
  {
   "cell_type": "code",
   "execution_count": null,
   "metadata": {
    "collapsed": true
   },
   "outputs": [],
   "source": [
    "lambfun = lambda x: x**2"
   ]
  },
  {
   "cell_type": "code",
   "execution_count": null,
   "metadata": {
    "collapsed": false
   },
   "outputs": [],
   "source": [
    "set_task(\"acorn-exp\", \"pandas\")\n",
    "from acorn.logging.database import _project, _task\n",
    "print(_project, _task)"
   ]
  },
  {
   "cell_type": "code",
   "execution_count": null,
   "metadata": {
    "collapsed": false
   },
   "outputs": [],
   "source": [
    "pdf=pd.DataFrame(range(10))"
   ]
  },
  {
   "cell_type": "code",
   "execution_count": null,
   "metadata": {
    "collapsed": false
   },
   "outputs": [],
   "source": [
    "pdf.apply(lambfun)"
   ]
  },
  {
   "cell_type": "code",
   "execution_count": null,
   "metadata": {
    "collapsed": true
   },
   "outputs": [],
   "source": [
    "from decoration import _extended_objs\n",
    "_extended_objs"
   ]
  },
  {
   "cell_type": "code",
   "execution_count": null,
   "metadata": {
    "collapsed": false
   },
   "outputs": [],
   "source": [
    "pd.__dict__[\"Period\"].__dict__"
   ]
  },
  {
   "cell_type": "code",
   "execution_count": null,
   "metadata": {
    "collapsed": true
   },
   "outputs": [],
   "source": [
    "modules = pdsplit[\"modules\"]"
   ]
  },
  {
   "cell_type": "code",
   "execution_count": null,
   "metadata": {
    "collapsed": false
   },
   "outputs": [],
   "source": [
    "o = inspect.getmembers(pdx[\"modules\"][4][1])[15][1]\n",
    "print(o.__module__, o.__name__, o)"
   ]
  },
  {
   "cell_type": "code",
   "execution_count": null,
   "metadata": {
    "collapsed": false
   },
   "outputs": [],
   "source": [
    "[(n, inspect.ismethod(f)) or inspect.isfunction(f) for n, f in  inspect.getmembers(classes[2][1])]"
   ]
  },
  {
   "cell_type": "code",
   "execution_count": null,
   "metadata": {
    "collapsed": false
   },
   "outputs": [],
   "source": [
    "setattr(modules[0][1], \"__acorn__\", None)"
   ]
  },
  {
   "cell_type": "code",
   "execution_count": null,
   "metadata": {
    "collapsed": false
   },
   "outputs": [],
   "source": [
    "classes[2][1].__name__"
   ]
  },
  {
   "cell_type": "code",
   "execution_count": null,
   "metadata": {
    "collapsed": false
   },
   "outputs": [],
   "source": [
    "classes[2][1].__dict__[\"__ge__\"]"
   ]
  },
  {
   "cell_type": "code",
   "execution_count": null,
   "metadata": {
    "collapsed": false
   },
   "outputs": [],
   "source": [
    "inspect.getmembers(classes[2][1])[85][1]"
   ]
  },
  {
   "cell_type": "code",
   "execution_count": null,
   "metadata": {
    "collapsed": false
   },
   "outputs": [],
   "source": [
    "inspect.getmembers(classes[2][1])[10][1].im_class"
   ]
  },
  {
   "cell_type": "code",
   "execution_count": null,
   "metadata": {
    "collapsed": false
   },
   "outputs": [],
   "source": [
    "str(classes[2][1])"
   ]
  },
  {
   "cell_type": "code",
   "execution_count": null,
   "metadata": {
    "collapsed": true
   },
   "outputs": [],
   "source": [
    "xmethod = pdsplit[\"methods\"][0][1]"
   ]
  },
  {
   "cell_type": "code",
   "execution_count": null,
   "metadata": {
    "collapsed": false
   },
   "outputs": [],
   "source": [
    "from decoration import _create_extension"
   ]
  },
  {
   "cell_type": "code",
   "execution_count": null,
   "metadata": {
    "collapsed": true
   },
   "outputs": [],
   "source": [
    "def acorncall(o, base):\n",
    "    print(\"Wrapped\")\n",
    "    base.__call__(o)"
   ]
  },
  {
   "cell_type": "code",
   "execution_count": null,
   "metadata": {
    "collapsed": false
   },
   "outputs": [],
   "source": [
    "xperiod = type(\"Period\", (extmod,), {\"__call__\": lambda s: acorncall(s, extmod), \"__acorn__\": extmod})"
   ]
  },
  {
   "cell_type": "code",
   "execution_count": null,
   "metadata": {
    "collapsed": false
   },
   "outputs": [],
   "source": [
    "inspect.getmembers(extmod)"
   ]
  },
  {
   "cell_type": "code",
   "execution_count": null,
   "metadata": {
    "collapsed": false
   },
   "outputs": [],
   "source": [
    "extmod.__doc__"
   ]
  },
  {
   "cell_type": "code",
   "execution_count": null,
   "metadata": {
    "collapsed": false
   },
   "outputs": [],
   "source": [
    "inspect.getmembers(xperiod)"
   ]
  },
  {
   "cell_type": "code",
   "execution_count": null,
   "metadata": {
    "collapsed": false
   },
   "outputs": [],
   "source": [
    "from os import path\n",
    "extmod=inspect.getmembers(modules[0][1])[2][1]\n",
    "path.splitext(path.basename(extmod.__module__.__file__))[1] == \".so\""
   ]
  },
  {
   "cell_type": "code",
   "execution_count": null,
   "metadata": {
    "collapsed": false
   },
   "outputs": [],
   "source": [
    "print(modules[0][1].__acorn__)"
   ]
  },
  {
   "cell_type": "code",
   "execution_count": null,
   "metadata": {
    "collapsed": true
   },
   "outputs": [],
   "source": [
    "def caller_name(skip=2):\n",
    "    \"\"\"Get a name of a caller in the format module.class.method\n",
    "    \n",
    "       `skip` specifies how many levels of stack to skip while getting caller\n",
    "       name. skip=1 means \"who calls me\", skip=2 \"who calls my caller\" etc.\n",
    "       \n",
    "       An empty string is returned if skipped levels exceed stack height\n",
    "    \"\"\"\n",
    "    stack = inspect.stack()\n",
    "    start = 0 + skip\n",
    "    if len(stack) < start + 1:\n",
    "      return ''\n",
    "    parentframe = stack[start][0]    \n",
    "    \n",
    "    name = []\n",
    "    module = inspect.getmodule(parentframe)\n",
    "    # `modname` can be None when frame is executed directly in console\n",
    "    # TODO(techtonik): consider using __main__\n",
    "    if module:\n",
    "        name.append(module.__name__)\n",
    "    # detect classname\n",
    "    if 'self' in parentframe.f_locals:\n",
    "        # I don't know any way to detect call from the object method\n",
    "        # XXX: there seems to be no way to detect static method call - it will\n",
    "        #      be just a function call\n",
    "        name.append(parentframe.f_locals['self'].__class__.__name__)\n",
    "    codename = parentframe.f_code.co_name\n",
    "    if codename != '<module>':  # top level usually\n",
    "        name.append( codename ) # function or a method\n",
    "    del parentframe\n",
    "    return \".\".join(name)"
   ]
  },
  {
   "cell_type": "code",
   "execution_count": null,
   "metadata": {
    "collapsed": false
   },
   "outputs": [],
   "source": [
    "str(modules[0][1]).split()[1].strip(\"'\")"
   ]
  },
  {
   "cell_type": "code",
   "execution_count": null,
   "metadata": {
    "collapsed": false
   },
   "outputs": [],
   "source": [
    "from os import path\n",
    "path.splitext(path.basename(modules[0][1].__file__))[1]"
   ]
  },
  {
   "cell_type": "code",
   "execution_count": null,
   "metadata": {
    "collapsed": true
   },
   "outputs": [],
   "source": []
  }
 ],
 "metadata": {
  "kernelspec": {
   "display_name": "Python 2",
   "language": "python",
   "name": "python2"
  },
  "language_info": {
   "codemirror_mode": {
    "name": "ipython",
    "version": 2
   },
   "file_extension": ".py",
   "mimetype": "text/x-python",
   "name": "python",
   "nbconvert_exporter": "python",
   "pygments_lexer": "ipython2",
   "version": "2.7.12"
  }
 },
 "nbformat": 4,
 "nbformat_minor": 0
}
